{
  "nbformat": 4,
  "nbformat_minor": 0,
  "metadata": {
    "colab": {
      "name": "iNeuron.ipynb",
      "provenance": [],
      "authorship_tag": "ABX9TyNa5gCiGbQXXCdb2PSA/1G5",
      "include_colab_link": true
    },
    "kernelspec": {
      "name": "python3",
      "display_name": "Python 3"
    },
    "language_info": {
      "name": "python"
    }
  },
  "cells": [
    {
      "cell_type": "markdown",
      "metadata": {
        "id": "view-in-github",
        "colab_type": "text"
      },
      "source": [
        "<a href=\"https://colab.research.google.com/github/dhananjai14/iNeuron_Assignment/blob/main/iNeuron.ipynb\" target=\"_parent\"><img src=\"https://colab.research.google.com/assets/colab-badge.svg\" alt=\"Open In Colab\"/></a>"
      ]
    },
    {
      "cell_type": "markdown",
      "source": [
        "# Assignment 1"
      ],
      "metadata": {
        "id": "MWisYX_BEq4n"
      }
    },
    {
      "cell_type": "code",
      "source": [
        "### Ques 1\n",
        "\n",
        "print('Hello world')"
      ],
      "metadata": {
        "id": "2t0Id-PhG9_8"
      },
      "execution_count": null,
      "outputs": []
    },
    {
      "cell_type": "code",
      "source": [
        "# 2. Write a Python program to do arithmetical operations addition and division.?\n",
        "a = 3 + 4\n",
        "b = 4/8"
      ],
      "metadata": {
        "id": "HUKymaC1HBdg"
      },
      "execution_count": null,
      "outputs": []
    },
    {
      "cell_type": "code",
      "source": [
        "# 3. Write a Python program to find the area of a triangle?\n",
        "h = float(input('Enter the height of triangle: '))\n",
        "b = float(input('Enter the Base of triangle: '))\n",
        "area_triangle = .5*b*h\n",
        "print('Area of triangle with height {} and base {} is {}'.format(h, b, area_triangle))"
      ],
      "metadata": {
        "colab": {
          "base_uri": "https://localhost:8080/"
        },
        "id": "ehWVpIOWHOhU",
        "outputId": "8dc9bcc3-24ec-41cf-f4a5-53e449b2c33c"
      },
      "execution_count": 2,
      "outputs": [
        {
          "output_type": "stream",
          "name": "stdout",
          "text": [
            "Enter the height of triangle: 2\n",
            "Enter the Base of triangle: 3\n",
            "Area of triangle with height 2.0 and base 3.0 is 3.0\n"
          ]
        }
      ]
    },
    {
      "cell_type": "code",
      "source": [
        "# 4. Write a Python program to swap two variables?\n",
        "a = input(\"Enter first number : \")\n",
        "b = input(\"Enter second number : \")\n",
        "# to swap two number \n",
        "c = b\n",
        "b = a\n",
        "a = c\n",
        "print('first number is {} and second is {}. So two numbers are swaped'.format(a , b))"
      ],
      "metadata": {
        "colab": {
          "base_uri": "https://localhost:8080/"
        },
        "id": "vW0HlR8-HQNp",
        "outputId": "6b3c5d90-979b-41ff-f210-4b3c27ff9b70"
      },
      "execution_count": 3,
      "outputs": [
        {
          "output_type": "stream",
          "name": "stdout",
          "text": [
            "Enter first number : 2\n",
            "Enter second number : 5\n",
            "first number is 5 and second is 2. So two numbers are swaped\n"
          ]
        }
      ]
    },
    {
      "cell_type": "code",
      "source": [
        "# 5. Write a Python program to generate a random number?\n",
        "import random\n",
        "print(random.randint(0, 9))"
      ],
      "metadata": {
        "colab": {
          "base_uri": "https://localhost:8080/"
        },
        "id": "f20FzshKHRBE",
        "outputId": "10769d3b-0e3c-4ed4-f6d9-977b35a3cb9a"
      },
      "execution_count": 7,
      "outputs": [
        {
          "output_type": "stream",
          "name": "stdout",
          "text": [
            "1\n"
          ]
        }
      ]
    },
    {
      "cell_type": "code",
      "source": [
        ""
      ],
      "metadata": {
        "id": "ZateLmowMcVT"
      },
      "execution_count": 4,
      "outputs": []
    }
  ]
}