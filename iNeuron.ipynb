{
  "nbformat": 4,
  "nbformat_minor": 0,
  "metadata": {
    "colab": {
      "name": "iNeuron.ipynb",
      "provenance": [],
      "authorship_tag": "ABX9TyOq3pz0BYKQnaSJtRAWAcg0",
      "include_colab_link": true
    },
    "kernelspec": {
      "name": "python3",
      "display_name": "Python 3"
    },
    "language_info": {
      "name": "python"
    }
  },
  "cells": [
    {
      "cell_type": "markdown",
      "metadata": {
        "id": "view-in-github",
        "colab_type": "text"
      },
      "source": [
        "<a href=\"https://colab.research.google.com/github/dhananjai14/iNeuron_Assignment/blob/main/iNeuron.ipynb\" target=\"_parent\"><img src=\"https://colab.research.google.com/assets/colab-badge.svg\" alt=\"Open In Colab\"/></a>"
      ]
    },
    {
      "cell_type": "markdown",
      "source": [
        "# Assignment 1"
      ],
      "metadata": {
        "id": "MWisYX_BEq4n"
      }
    },
    {
      "cell_type": "code",
      "source": [
        "### Ques 1\n",
        "\n",
        "print('Hello world')"
      ],
      "metadata": {
        "id": "2t0Id-PhG9_8"
      },
      "execution_count": null,
      "outputs": []
    },
    {
      "cell_type": "code",
      "source": [
        "# 2. Write a Python program to do arithmetical operations addition and division.?\n",
        "a = 3 + 4\n",
        "b = 4/8"
      ],
      "metadata": {
        "id": "HUKymaC1HBdg"
      },
      "execution_count": null,
      "outputs": []
    },
    {
      "cell_type": "code",
      "source": [
        "# 3. Write a Python program to find the area of a triangle?\n",
        "h = float(input('Enter the height of triangle: '))\n",
        "b = float(input('Enter the Base of triangle: '))\n",
        "area_triangle = .5*b*h\n",
        "print('Area of triangle with height {} and base {} is {}'.format(h, b, area_triangle))"
      ],
      "metadata": {
        "colab": {
          "base_uri": "https://localhost:8080/"
        },
        "id": "ehWVpIOWHOhU",
        "outputId": "8dc9bcc3-24ec-41cf-f4a5-53e449b2c33c"
      },
      "execution_count": 2,
      "outputs": [
        {
          "output_type": "stream",
          "name": "stdout",
          "text": [
            "Enter the height of triangle: 2\n",
            "Enter the Base of triangle: 3\n",
            "Area of triangle with height 2.0 and base 3.0 is 3.0\n"
          ]
        }
      ]
    },
    {
      "cell_type": "code",
      "source": [
        "# 4. Write a Python program to swap two variables?\n",
        "a = input(\"Enter first number : \")\n",
        "b = input(\"Enter second number : \")\n",
        "# to swap two number \n",
        "c = b\n",
        "b = a\n",
        "a = c\n",
        "print('first number is {} and second is {}. So two numbers are swaped'.format(a , b))"
      ],
      "metadata": {
        "colab": {
          "base_uri": "https://localhost:8080/"
        },
        "id": "vW0HlR8-HQNp",
        "outputId": "6b3c5d90-979b-41ff-f210-4b3c27ff9b70"
      },
      "execution_count": 3,
      "outputs": [
        {
          "output_type": "stream",
          "name": "stdout",
          "text": [
            "Enter first number : 2\n",
            "Enter second number : 5\n",
            "first number is 5 and second is 2. So two numbers are swaped\n"
          ]
        }
      ]
    },
    {
      "cell_type": "code",
      "source": [
        "# 5. Write a Python program to generate a random number?\n",
        "import random\n",
        "print(random.randint(0, 9))"
      ],
      "metadata": {
        "colab": {
          "base_uri": "https://localhost:8080/"
        },
        "id": "f20FzshKHRBE",
        "outputId": "10769d3b-0e3c-4ed4-f6d9-977b35a3cb9a"
      },
      "execution_count": 7,
      "outputs": [
        {
          "output_type": "stream",
          "name": "stdout",
          "text": [
            "1\n"
          ]
        }
      ]
    },
    {
      "cell_type": "markdown",
      "source": [
        "# Assignment 2 "
      ],
      "metadata": {
        "id": "ZateLmowMcVT"
      }
    },
    {
      "cell_type": "code",
      "source": [
        "# 1. Write a Python program to convert kilometers to miles?\n",
        "x = float(input('Enter distance in KM: '))\n",
        "print('{} Distance in KM is equal to {} miles '. format(x , round(x*.6214,2)))"
      ],
      "metadata": {
        "colab": {
          "base_uri": "https://localhost:8080/"
        },
        "id": "sTEFcIvJOdAK",
        "outputId": "e8d66ece-a11a-4797-a7a7-50c2741e8952"
      },
      "execution_count": 11,
      "outputs": [
        {
          "output_type": "stream",
          "name": "stdout",
          "text": [
            "Enter distance in KM: 34\n",
            "34.0 Distance in KM is equal to 21.13 miles \n"
          ]
        }
      ]
    },
    {
      "cell_type": "code",
      "source": [
        "# 2. Write a Python program to convert Celsius to Fahrenheit?\n",
        "x = float(input('Enter temp in Celcius: '))\n",
        "temp_f = 32 + x*9/5\n",
        "print('temp in F is {}'.format(temp_f))"
      ],
      "metadata": {
        "colab": {
          "base_uri": "https://localhost:8080/"
        },
        "id": "-S6exfdwOmXI",
        "outputId": "8ce9e040-7968-436f-fd8b-5fabcbab9e5a"
      },
      "execution_count": 12,
      "outputs": [
        {
          "output_type": "stream",
          "name": "stdout",
          "text": [
            "Enter temp in Celcius: 74\n",
            "temp in F is 165.2\n"
          ]
        }
      ]
    },
    {
      "cell_type": "code",
      "source": [
        "# 3. Write a Python program to display calendar?\n",
        "import calendar \n",
        "y = int(input('Enter the year: ')) \n",
        "m = int(input('Enter the month: '))\n",
        "\n",
        "print(calendar.month(y,m))"
      ],
      "metadata": {
        "colab": {
          "base_uri": "https://localhost:8080/"
        },
        "id": "yKimTa2jOoka",
        "outputId": "467c57bf-6b78-4ca8-e5f2-418a3662b450"
      },
      "execution_count": 10,
      "outputs": [
        {
          "output_type": "stream",
          "name": "stdout",
          "text": [
            "Enter the year: 2012\n",
            "Enter the month: 12\n",
            "   December 2012\n",
            "Mo Tu We Th Fr Sa Su\n",
            "                1  2\n",
            " 3  4  5  6  7  8  9\n",
            "10 11 12 13 14 15 16\n",
            "17 18 19 20 21 22 23\n",
            "24 25 26 27 28 29 30\n",
            "31\n",
            "\n"
          ]
        }
      ]
    },
    {
      "cell_type": "code",
      "source": [
        "# 4. Write a Python program to solve quadratic equation?\n",
        "import math\n",
        "print('quardratic quation is of the form a*x^2 + b*x + c = 0')\n",
        "a = float(input('Enter the value of a: '))\n",
        "b = float(input('Enter the value of b: '))\n",
        "c = float(input('Enter the value of c: '))\n",
        "print('quardratic quation is  {}*x^2 + {}*x + {} = 0'.format(a,b,c))\n",
        "if b**2 >= 4*a*c:\n",
        "    disc = b**2 - 4*a*c # Calculating discriminant\n",
        "    d = round(math.sqrt(disc),2)\n",
        "    r1 = round((-b + d) / (2*a),2)\n",
        "    r2 = round((-b - d) / (2*a),2)\n",
        "    print('Roots are r1 = {} and r2 = {} '.format(r1,r2))\n",
        "else:\n",
        "    disc = - b**2 + 4*a*c # Calculating discriminant\n",
        "    d = round(math.sqrt(disc) / 2*a,2)\n",
        "    r1 = round(-b / (2*a),2)\n",
        "    r2 = round(-b / (2*a),2)\n",
        "    print('Roots are r1 = {} + i{} and r2 = {} - i{} '.format(r1, d, r2, d))\n",
        "    \n",
        "\n"
      ],
      "metadata": {
        "colab": {
          "base_uri": "https://localhost:8080/"
        },
        "id": "hnLvgPkaOqBC",
        "outputId": "89915950-d14c-4238-f907-d0654f1e68f9"
      },
      "execution_count": 24,
      "outputs": [
        {
          "output_type": "stream",
          "name": "stdout",
          "text": [
            "quardratic quation is of the form a*x^2 + b*x + c = 0\n",
            "Enter the value of a: 1\n",
            "Enter the value of b: 5\n",
            "Enter the value of c: 4\n",
            "quardratic quation is  1.0*x^2 + 5.0*x + 4.0 = 0\n",
            "Roots are r1 = -1.0 and r2 = -4.0 \n"
          ]
        }
      ]
    },
    {
      "cell_type": "code",
      "source": [
        "# 5. Write a Python program to swap two variables without temp variable?\n",
        "a = input(\"Enter first number : \")\n",
        "b = input(\"Enter second number : \")\n",
        "a,b = b,a\n",
        "print('first number is {} and second number is {}'.format(a, b))"
      ],
      "metadata": {
        "colab": {
          "base_uri": "https://localhost:8080/"
        },
        "id": "3vRZ2JUxOrAA",
        "outputId": "9cc69d58-fffe-420e-e21c-37f9c34fc984"
      },
      "execution_count": 26,
      "outputs": [
        {
          "output_type": "stream",
          "name": "stdout",
          "text": [
            "Enter first number : 1\n",
            "Enter second number : 6\n",
            "first number is 6 and second number is 1\n"
          ]
        }
      ]
    },
    {
      "cell_type": "markdown",
      "source": [
        "# Assignment 3"
      ],
      "metadata": {
        "id": "PYT4dEOFmnch"
      }
    },
    {
      "cell_type": "code",
      "source": [
        ""
      ],
      "metadata": {
        "id": "k1r38Tdjmo8E"
      },
      "execution_count": null,
      "outputs": []
    }
  ]
}